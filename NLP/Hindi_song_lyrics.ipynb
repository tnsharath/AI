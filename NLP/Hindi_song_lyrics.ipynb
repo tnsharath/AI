{
  "nbformat": 4,
  "nbformat_minor": 0,
  "metadata": {
    "colab": {
      "name": "Hindi_song_lyrics.ipynb",
      "provenance": []
    },
    "kernelspec": {
      "name": "python3",
      "display_name": "Python 3"
    },
    "accelerator": "GPU"
  },
  "cells": [
    {
      "cell_type": "markdown",
      "metadata": {
        "id": "6bStwuEwk41q"
      },
      "source": [
        "# Generating Bollywood song lyrics using Natural Language Processing"
      ]
    },
    {
      "cell_type": "markdown",
      "metadata": {
        "id": "je3wiGZOl8we"
      },
      "source": [
        "## Import libraries"
      ]
    },
    {
      "cell_type": "code",
      "metadata": {
        "id": "o913MW8gF7FB"
      },
      "source": [
        "import numpy as np \n",
        "\n",
        "from tensorflow.keras.models import Sequential\n",
        "from tensorflow.keras.layers import Embedding, LSTM, Dense, Dropout, Bidirectional\n",
        "from tensorflow.keras.preprocessing.sequence import pad_sequences\n",
        "from tensorflow.keras.preprocessing.text import Tokenizer\n",
        "from tensorflow.keras import regularizers\n",
        "\n",
        "from sklearn.model_selection import train_test_split"
      ],
      "execution_count": 1,
      "outputs": []
    },
    {
      "cell_type": "markdown",
      "metadata": {
        "id": "pXTDjmuWmE9x"
      },
      "source": [
        "## Read lyrics from file"
      ]
    },
    {
      "cell_type": "code",
      "metadata": {
        "id": "spzCqbB3lT2r"
      },
      "source": [
        "file_name = '/content/bollywood_song_lyrics.txt'\n",
        "data = open(file_name).read()\n",
        "corpus = data.lower().split(\"\\n\")"
      ],
      "execution_count": 2,
      "outputs": []
    },
    {
      "cell_type": "markdown",
      "metadata": {
        "id": "J0QPsg86pEKK"
      },
      "source": [
        "## Preprocess"
      ]
    },
    {
      "cell_type": "markdown",
      "metadata": {
        "id": "6vGdMxgaphMU"
      },
      "source": [
        "Initialize tokenizer"
      ]
    },
    {
      "cell_type": "code",
      "metadata": {
        "id": "GxnvyBMCo0Bl"
      },
      "source": [
        "input_sequences = []\n",
        "tokenizer = Tokenizer()\n",
        "\n",
        "tokenizer.fit_on_texts(corpus)"
      ],
      "execution_count": 6,
      "outputs": []
    },
    {
      "cell_type": "markdown",
      "metadata": {
        "id": "z_iLuhalpCLr"
      },
      "source": [
        "Total number of unique words present in lyrics corpus"
      ]
    },
    {
      "cell_type": "code",
      "metadata": {
        "id": "hzm6XAFNo9lp",
        "outputId": "8f1b3dc7-b8f9-4688-f9b5-f7707b874752",
        "colab": {
          "base_uri": "https://localhost:8080/",
          "height": 34
        }
      },
      "source": [
        "total_words = len(tokenizer.word_index) + 1\n",
        "print(total_words)"
      ],
      "execution_count": 7,
      "outputs": [
        {
          "output_type": "stream",
          "text": [
            "6005\n"
          ],
          "name": "stdout"
        }
      ]
    },
    {
      "cell_type": "markdown",
      "metadata": {
        "id": "AQWWk07lp0ee"
      },
      "source": [
        "For each line in corpus, tokenize the words, create a n-gram and add to input_sequences"
      ]
    },
    {
      "cell_type": "code",
      "metadata": {
        "id": "4YC9zr-9lWzC"
      },
      "source": [
        "for line in corpus:\n",
        "  token_list = tokenizer.texts_to_sequences([line])[0]\n",
        "  for i in range(1, len(token_list)):\n",
        "    n_gram_sequence = token_list[:i+1]\n",
        "    input_sequences.append(n_gram_sequence)"
      ],
      "execution_count": null,
      "outputs": []
    },
    {
      "cell_type": "markdown",
      "metadata": {
        "id": "KNQ8ZHlNqXzU"
      },
      "source": [
        "Find the longest sequence of words"
      ]
    },
    {
      "cell_type": "code",
      "metadata": {
        "id": "CqgEObWIqkjo"
      },
      "source": [
        "max_sequence_len = max([len(x) for x in input_sequences])\n",
        "print(max_sequence_len)"
      ],
      "execution_count": null,
      "outputs": []
    },
    {
      "cell_type": "markdown",
      "metadata": {
        "id": "lIERAjGSqm8r"
      },
      "source": [
        "Pad with zero to match the max sequence length"
      ]
    },
    {
      "cell_type": "code",
      "metadata": {
        "id": "t9CPpWxLlaJO",
        "outputId": "4389f3fb-18c7-4f23-f555-520428d24ada",
        "colab": {
          "base_uri": "https://localhost:8080/"
        }
      },
      "source": [
        "input_sequences = np.array(pad_sequences(input_sequences, maxlen=max_sequence_len, padding='pre'))"
      ],
      "execution_count": null,
      "outputs": [
        {
          "output_type": "stream",
          "text": [
            "248\n"
          ],
          "name": "stdout"
        }
      ]
    },
    {
      "cell_type": "markdown",
      "metadata": {
        "id": "3tWj_8HJq-DG"
      },
      "source": [
        "Create predictors and labels"
      ]
    },
    {
      "cell_type": "code",
      "metadata": {
        "id": "8GZFZ7apq9zR"
      },
      "source": [
        "predictors, label = input_sequences[:,:-1],input_sequences[:,-1]"
      ],
      "execution_count": null,
      "outputs": []
    },
    {
      "cell_type": "markdown",
      "metadata": {
        "id": "GLBxyKEBrGtu"
      },
      "source": [
        "Split training and test set"
      ]
    },
    {
      "cell_type": "code",
      "metadata": {
        "id": "sYCY9n17lc29"
      },
      "source": [
        "X_train, X_test, y_train, y_test = train_test_split(predictors, label, test_size=0.2, random_state=42)"
      ],
      "execution_count": null,
      "outputs": []
    },
    {
      "cell_type": "markdown",
      "metadata": {
        "id": "nzO2aHHJrK_I"
      },
      "source": [
        "## Model\n",
        "\n",
        "\n"
      ]
    },
    {
      "cell_type": "markdown",
      "metadata": {
        "id": "TB0YpYlesCKI"
      },
      "source": [
        "### Create the Model"
      ]
    },
    {
      "cell_type": "code",
      "metadata": {
        "id": "pA1-8ib9GEEO"
      },
      "source": [
        "model = Sequential()\n",
        "model.add(Embedding(total_words, 64, input_length = max_sequence_len - 1))\n",
        "model.add(Bidirectional(LSTM(128, return_sequences = True)))\n",
        "model.add(LSTM(64))\n",
        "model.add(Dense(total_words/2, activation='relu'))\n",
        "model.add(Dense(total_words, activation='softmax'))"
      ],
      "execution_count": null,
      "outputs": []
    },
    {
      "cell_type": "code",
      "metadata": {
        "id": "-v-S1yDz-lHA",
        "outputId": "de7717cd-54d8-44c9-da7d-4ce9c67cd4cc",
        "colab": {
          "base_uri": "https://localhost:8080/"
        }
      },
      "source": [
        "print(model.summary())"
      ],
      "execution_count": null,
      "outputs": [
        {
          "output_type": "stream",
          "text": [
            "Model: \"sequential\"\n",
            "_________________________________________________________________\n",
            "Layer (type)                 Output Shape              Param #   \n",
            "=================================================================\n",
            "embedding (Embedding)        (None, 247, 64)           384320    \n",
            "_________________________________________________________________\n",
            "bidirectional (Bidirectional (None, 247, 256)          197632    \n",
            "_________________________________________________________________\n",
            "lstm_1 (LSTM)                (None, 64)                82176     \n",
            "_________________________________________________________________\n",
            "dense (Dense)                (None, 3002)              195130    \n",
            "_________________________________________________________________\n",
            "dense_1 (Dense)              (None, 6005)              18033015  \n",
            "=================================================================\n",
            "Total params: 18,892,273\n",
            "Trainable params: 18,892,273\n",
            "Non-trainable params: 0\n",
            "_________________________________________________________________\n",
            "None\n"
          ],
          "name": "stdout"
        }
      ]
    },
    {
      "cell_type": "markdown",
      "metadata": {
        "id": "mxMKDPtRrVrg"
      },
      "source": [
        "### Compile the Model"
      ]
    },
    {
      "cell_type": "code",
      "metadata": {
        "id": "I_vmXNGt-nw_"
      },
      "source": [
        "model.compile(loss='sparse_categorical_crossentropy', optimizer='adam', metrics=['accuracy'])"
      ],
      "execution_count": null,
      "outputs": []
    },
    {
      "cell_type": "markdown",
      "metadata": {
        "id": "7eckCtELrag_"
      },
      "source": [
        "### Fit the Model"
      ]
    },
    {
      "cell_type": "code",
      "metadata": {
        "id": "zMrhwIcEGD-a",
        "outputId": "593695b7-b2be-4be2-9a99-59f3c8488ccc",
        "colab": {
          "base_uri": "https://localhost:8080/"
        }
      },
      "source": [
        " history = model.fit(X_train, y_train, epochs=100, batch_size=64, validation_data=(X_test, y_test))"
      ],
      "execution_count": null,
      "outputs": [
        {
          "output_type": "stream",
          "text": [
            "Epoch 1/100\n",
            "763/763 [==============================] - 117s 154ms/step - loss: 6.9802 - accuracy: 0.0383 - val_loss: 6.7845 - val_accuracy: 0.0392\n",
            "Epoch 2/100\n",
            "763/763 [==============================] - 116s 152ms/step - loss: 6.4965 - accuracy: 0.0464 - val_loss: 6.4604 - val_accuracy: 0.0543\n",
            "Epoch 3/100\n",
            "763/763 [==============================] - 116s 152ms/step - loss: 6.0162 - accuracy: 0.0640 - val_loss: 6.2145 - val_accuracy: 0.0618\n",
            "Epoch 4/100\n",
            "763/763 [==============================] - 116s 152ms/step - loss: 5.5848 - accuracy: 0.0892 - val_loss: 5.9984 - val_accuracy: 0.0956\n",
            "Epoch 5/100\n",
            "763/763 [==============================] - 116s 152ms/step - loss: 5.1069 - accuracy: 0.1298 - val_loss: 5.7715 - val_accuracy: 0.1366\n",
            "Epoch 6/100\n",
            "763/763 [==============================] - 116s 152ms/step - loss: 4.6035 - accuracy: 0.1845 - val_loss: 5.6117 - val_accuracy: 0.1826\n",
            "Epoch 7/100\n",
            "763/763 [==============================] - 116s 152ms/step - loss: 4.1065 - accuracy: 0.2401 - val_loss: 5.5001 - val_accuracy: 0.2261\n",
            "Epoch 8/100\n",
            "763/763 [==============================] - 116s 152ms/step - loss: 3.6401 - accuracy: 0.2971 - val_loss: 5.4661 - val_accuracy: 0.2707\n",
            "Epoch 9/100\n",
            "763/763 [==============================] - 116s 152ms/step - loss: 3.2038 - accuracy: 0.3555 - val_loss: 5.4540 - val_accuracy: 0.3066\n",
            "Epoch 10/100\n",
            "763/763 [==============================] - 116s 152ms/step - loss: 2.8000 - accuracy: 0.4163 - val_loss: 5.6060 - val_accuracy: 0.3412\n",
            "Epoch 11/100\n",
            "763/763 [==============================] - 116s 152ms/step - loss: 2.4516 - accuracy: 0.4698 - val_loss: 5.6868 - val_accuracy: 0.3721\n",
            "Epoch 12/100\n",
            "763/763 [==============================] - 116s 152ms/step - loss: 2.1434 - accuracy: 0.5246 - val_loss: 5.7987 - val_accuracy: 0.4018\n",
            "Epoch 13/100\n",
            "763/763 [==============================] - 116s 152ms/step - loss: 1.8799 - accuracy: 0.5731 - val_loss: 5.9838 - val_accuracy: 0.4218\n",
            "Epoch 14/100\n",
            "763/763 [==============================] - 116s 152ms/step - loss: 1.6538 - accuracy: 0.6185 - val_loss: 6.0676 - val_accuracy: 0.4469\n",
            "Epoch 15/100\n",
            "763/763 [==============================] - 116s 152ms/step - loss: 1.4555 - accuracy: 0.6563 - val_loss: 6.2656 - val_accuracy: 0.4625\n",
            "Epoch 16/100\n",
            "763/763 [==============================] - 116s 152ms/step - loss: 1.2821 - accuracy: 0.6928 - val_loss: 6.4907 - val_accuracy: 0.4700\n",
            "Epoch 17/100\n",
            "763/763 [==============================] - 116s 152ms/step - loss: 1.1380 - accuracy: 0.7222 - val_loss: 6.5700 - val_accuracy: 0.4923\n",
            "Epoch 18/100\n",
            "763/763 [==============================] - 116s 152ms/step - loss: 1.0087 - accuracy: 0.7506 - val_loss: 6.7679 - val_accuracy: 0.5076\n",
            "Epoch 19/100\n",
            "763/763 [==============================] - 116s 152ms/step - loss: 0.8931 - accuracy: 0.7776 - val_loss: 6.8664 - val_accuracy: 0.5118\n",
            "Epoch 20/100\n",
            "763/763 [==============================] - 117s 153ms/step - loss: 0.7954 - accuracy: 0.7997 - val_loss: 6.9904 - val_accuracy: 0.5251\n",
            "Epoch 21/100\n",
            "763/763 [==============================] - 116s 153ms/step - loss: 0.7090 - accuracy: 0.8206 - val_loss: 7.0634 - val_accuracy: 0.5327\n",
            "Epoch 22/100\n",
            "763/763 [==============================] - 116s 152ms/step - loss: 0.6285 - accuracy: 0.8394 - val_loss: 7.2343 - val_accuracy: 0.5430\n",
            "Epoch 23/100\n",
            "763/763 [==============================] - 116s 152ms/step - loss: 0.5653 - accuracy: 0.8556 - val_loss: 7.4368 - val_accuracy: 0.5466\n",
            "Epoch 24/100\n",
            "763/763 [==============================] - 116s 152ms/step - loss: 0.5055 - accuracy: 0.8706 - val_loss: 7.5723 - val_accuracy: 0.5585\n",
            "Epoch 25/100\n",
            "763/763 [==============================] - 117s 153ms/step - loss: 0.4644 - accuracy: 0.8802 - val_loss: 7.5214 - val_accuracy: 0.5613\n",
            "Epoch 26/100\n",
            "763/763 [==============================] - 117s 153ms/step - loss: 0.4102 - accuracy: 0.8937 - val_loss: 7.6381 - val_accuracy: 0.5650\n",
            "Epoch 27/100\n",
            "763/763 [==============================] - 117s 153ms/step - loss: 0.3772 - accuracy: 0.9031 - val_loss: 7.7076 - val_accuracy: 0.5676\n",
            "Epoch 28/100\n",
            "763/763 [==============================] - 116s 153ms/step - loss: 0.3528 - accuracy: 0.9079 - val_loss: 7.8775 - val_accuracy: 0.5707\n",
            "Epoch 29/100\n",
            "763/763 [==============================] - 116s 152ms/step - loss: 0.3215 - accuracy: 0.9155 - val_loss: 7.8457 - val_accuracy: 0.5746\n",
            "Epoch 30/100\n",
            "763/763 [==============================] - 116s 152ms/step - loss: 0.3020 - accuracy: 0.9218 - val_loss: 8.0194 - val_accuracy: 0.5730\n",
            "Epoch 31/100\n",
            "763/763 [==============================] - 116s 152ms/step - loss: 0.2742 - accuracy: 0.9291 - val_loss: 7.9091 - val_accuracy: 0.5786\n",
            "Epoch 32/100\n",
            "763/763 [==============================] - 116s 152ms/step - loss: 0.2662 - accuracy: 0.9300 - val_loss: 8.0417 - val_accuracy: 0.5826\n",
            "Epoch 33/100\n",
            "763/763 [==============================] - 116s 153ms/step - loss: 0.2488 - accuracy: 0.9347 - val_loss: 8.1256 - val_accuracy: 0.5836\n",
            "Epoch 34/100\n",
            "763/763 [==============================] - 116s 152ms/step - loss: 0.2356 - accuracy: 0.9375 - val_loss: 8.1318 - val_accuracy: 0.5825\n",
            "Epoch 35/100\n",
            "763/763 [==============================] - 116s 153ms/step - loss: 0.2204 - accuracy: 0.9421 - val_loss: 8.1108 - val_accuracy: 0.5840\n",
            "Epoch 36/100\n",
            "763/763 [==============================] - 116s 153ms/step - loss: 0.2111 - accuracy: 0.9429 - val_loss: 8.2025 - val_accuracy: 0.5803\n",
            "Epoch 37/100\n",
            "763/763 [==============================] - 117s 153ms/step - loss: 0.2143 - accuracy: 0.9415 - val_loss: 8.1998 - val_accuracy: 0.5799\n",
            "Epoch 38/100\n",
            "763/763 [==============================] - 117s 153ms/step - loss: 0.1991 - accuracy: 0.9454 - val_loss: 8.3238 - val_accuracy: 0.5812\n",
            "Epoch 39/100\n",
            "763/763 [==============================] - 117s 153ms/step - loss: 0.1964 - accuracy: 0.9472 - val_loss: 8.3255 - val_accuracy: 0.5892\n",
            "Epoch 40/100\n",
            "763/763 [==============================] - 117s 153ms/step - loss: 0.1909 - accuracy: 0.9463 - val_loss: 8.3381 - val_accuracy: 0.5821\n",
            "Epoch 41/100\n",
            "763/763 [==============================] - 117s 153ms/step - loss: 0.1841 - accuracy: 0.9491 - val_loss: 8.2631 - val_accuracy: 0.5848\n",
            "Epoch 42/100\n",
            "763/763 [==============================] - 117s 153ms/step - loss: 0.1743 - accuracy: 0.9511 - val_loss: 8.2930 - val_accuracy: 0.5879\n",
            "Epoch 43/100\n",
            "763/763 [==============================] - 116s 153ms/step - loss: 0.1749 - accuracy: 0.9501 - val_loss: 8.4019 - val_accuracy: 0.5876\n",
            "Epoch 44/100\n",
            "763/763 [==============================] - 117s 153ms/step - loss: 0.1806 - accuracy: 0.9477 - val_loss: 8.3864 - val_accuracy: 0.5850\n",
            "Epoch 45/100\n",
            "763/763 [==============================] - 117s 153ms/step - loss: 0.1682 - accuracy: 0.9511 - val_loss: 8.3135 - val_accuracy: 0.5914\n",
            "Epoch 46/100\n",
            "763/763 [==============================] - 117s 153ms/step - loss: 0.1598 - accuracy: 0.9535 - val_loss: 8.2887 - val_accuracy: 0.5840\n",
            "Epoch 47/100\n",
            "763/763 [==============================] - 117s 154ms/step - loss: 0.1559 - accuracy: 0.9544 - val_loss: 8.1595 - val_accuracy: 0.5869\n",
            "Epoch 48/100\n",
            "763/763 [==============================] - 117s 154ms/step - loss: 0.1660 - accuracy: 0.9511 - val_loss: 8.2823 - val_accuracy: 0.5844\n",
            "Epoch 49/100\n",
            "763/763 [==============================] - 117s 154ms/step - loss: 0.1568 - accuracy: 0.9534 - val_loss: 8.5474 - val_accuracy: 0.5868\n",
            "Epoch 50/100\n",
            "763/763 [==============================] - 117s 154ms/step - loss: 0.1552 - accuracy: 0.9534 - val_loss: 8.2801 - val_accuracy: 0.5899\n",
            "Epoch 51/100\n",
            "763/763 [==============================] - 117s 153ms/step - loss: 0.1460 - accuracy: 0.9558 - val_loss: 8.5020 - val_accuracy: 0.5890\n",
            "Epoch 52/100\n",
            "763/763 [==============================] - 117s 154ms/step - loss: 0.1522 - accuracy: 0.9537 - val_loss: 8.6536 - val_accuracy: 0.5881\n",
            "Epoch 53/100\n",
            "763/763 [==============================] - 118s 154ms/step - loss: 0.1445 - accuracy: 0.9557 - val_loss: 8.4784 - val_accuracy: 0.5910\n",
            "Epoch 54/100\n",
            "763/763 [==============================] - 117s 154ms/step - loss: 0.1379 - accuracy: 0.9570 - val_loss: 8.4789 - val_accuracy: 0.5882\n",
            "Epoch 55/100\n",
            "763/763 [==============================] - 117s 153ms/step - loss: 0.1370 - accuracy: 0.9572 - val_loss: 8.3758 - val_accuracy: 0.5881\n",
            "Epoch 56/100\n",
            "763/763 [==============================] - 117s 154ms/step - loss: 0.1419 - accuracy: 0.9560 - val_loss: 8.6071 - val_accuracy: 0.5853\n",
            "Epoch 57/100\n",
            "763/763 [==============================] - 117s 153ms/step - loss: 0.1414 - accuracy: 0.9565 - val_loss: 8.4847 - val_accuracy: 0.5916\n",
            "Epoch 58/100\n",
            "763/763 [==============================] - 117s 153ms/step - loss: 0.1342 - accuracy: 0.9572 - val_loss: 8.5771 - val_accuracy: 0.5908\n",
            "Epoch 59/100\n",
            "763/763 [==============================] - 117s 153ms/step - loss: 0.1381 - accuracy: 0.9569 - val_loss: 8.5925 - val_accuracy: 0.5914\n",
            "Epoch 60/100\n",
            "763/763 [==============================] - 117s 154ms/step - loss: 0.1343 - accuracy: 0.9577 - val_loss: 8.6566 - val_accuracy: 0.5916\n",
            "Epoch 61/100\n",
            "763/763 [==============================] - 117s 154ms/step - loss: 0.1262 - accuracy: 0.9597 - val_loss: 8.6328 - val_accuracy: 0.5899\n",
            "Epoch 62/100\n",
            "763/763 [==============================] - 118s 154ms/step - loss: 0.1215 - accuracy: 0.9610 - val_loss: 8.4600 - val_accuracy: 0.5909\n",
            "Epoch 63/100\n",
            "763/763 [==============================] - 118s 154ms/step - loss: 0.1282 - accuracy: 0.9595 - val_loss: 8.7831 - val_accuracy: 0.5872\n",
            "Epoch 64/100\n",
            "763/763 [==============================] - 118s 155ms/step - loss: 0.1384 - accuracy: 0.9564 - val_loss: 8.7798 - val_accuracy: 0.5890\n",
            "Epoch 65/100\n",
            "763/763 [==============================] - 118s 155ms/step - loss: 0.1296 - accuracy: 0.9582 - val_loss: 8.7772 - val_accuracy: 0.5898\n",
            "Epoch 66/100\n",
            "763/763 [==============================] - 118s 155ms/step - loss: 0.1209 - accuracy: 0.9598 - val_loss: 8.8391 - val_accuracy: 0.5896\n",
            "Epoch 67/100\n",
            "763/763 [==============================] - 118s 155ms/step - loss: 0.1275 - accuracy: 0.9584 - val_loss: 8.6431 - val_accuracy: 0.5910\n",
            "Epoch 68/100\n",
            "763/763 [==============================] - 118s 155ms/step - loss: 0.1195 - accuracy: 0.9605 - val_loss: 8.7163 - val_accuracy: 0.5904\n",
            "Epoch 69/100\n",
            "763/763 [==============================] - 118s 155ms/step - loss: 0.1133 - accuracy: 0.9620 - val_loss: 8.6833 - val_accuracy: 0.5905\n",
            "Epoch 70/100\n",
            "763/763 [==============================] - 118s 155ms/step - loss: 0.1239 - accuracy: 0.9596 - val_loss: 8.8362 - val_accuracy: 0.5883\n",
            "Epoch 71/100\n",
            "763/763 [==============================] - 118s 155ms/step - loss: 0.1215 - accuracy: 0.9602 - val_loss: 8.8220 - val_accuracy: 0.5897\n",
            "Epoch 72/100\n",
            "763/763 [==============================] - 118s 155ms/step - loss: 0.1149 - accuracy: 0.9615 - val_loss: 8.9080 - val_accuracy: 0.5894\n",
            "Epoch 73/100\n",
            "763/763 [==============================] - 118s 155ms/step - loss: 0.1135 - accuracy: 0.9615 - val_loss: 8.8096 - val_accuracy: 0.5921\n",
            "Epoch 74/100\n",
            "763/763 [==============================] - 118s 155ms/step - loss: 0.1144 - accuracy: 0.9621 - val_loss: 8.7699 - val_accuracy: 0.5890\n",
            "Epoch 75/100\n",
            "763/763 [==============================] - 117s 154ms/step - loss: 0.1172 - accuracy: 0.9611 - val_loss: 8.9895 - val_accuracy: 0.5920\n",
            "Epoch 76/100\n",
            "763/763 [==============================] - 117s 153ms/step - loss: 0.1155 - accuracy: 0.9614 - val_loss: 9.1212 - val_accuracy: 0.5892\n",
            "Epoch 77/100\n",
            "763/763 [==============================] - 117s 153ms/step - loss: 0.1108 - accuracy: 0.9623 - val_loss: 9.1940 - val_accuracy: 0.5919\n",
            "Epoch 78/100\n",
            "763/763 [==============================] - 116s 153ms/step - loss: 0.1076 - accuracy: 0.9627 - val_loss: 9.0896 - val_accuracy: 0.5915\n",
            "Epoch 79/100\n",
            "763/763 [==============================] - 117s 153ms/step - loss: 0.1183 - accuracy: 0.9598 - val_loss: 9.0870 - val_accuracy: 0.5891\n",
            "Epoch 80/100\n",
            "763/763 [==============================] - 117s 153ms/step - loss: 0.1087 - accuracy: 0.9627 - val_loss: 9.1288 - val_accuracy: 0.5944\n",
            "Epoch 81/100\n",
            "763/763 [==============================] - 117s 154ms/step - loss: 0.1035 - accuracy: 0.9646 - val_loss: 8.8612 - val_accuracy: 0.5870\n",
            "Epoch 82/100\n",
            "763/763 [==============================] - 117s 154ms/step - loss: 0.1083 - accuracy: 0.9626 - val_loss: 9.0765 - val_accuracy: 0.5893\n",
            "Epoch 83/100\n",
            "763/763 [==============================] - 117s 154ms/step - loss: 0.1119 - accuracy: 0.9619 - val_loss: 9.5356 - val_accuracy: 0.5883\n",
            "Epoch 84/100\n",
            "763/763 [==============================] - 117s 154ms/step - loss: 0.1072 - accuracy: 0.9626 - val_loss: 9.1701 - val_accuracy: 0.5923\n",
            "Epoch 85/100\n",
            "763/763 [==============================] - 117s 154ms/step - loss: 0.1099 - accuracy: 0.9629 - val_loss: 9.2699 - val_accuracy: 0.5886\n",
            "Epoch 86/100\n",
            "763/763 [==============================] - 117s 154ms/step - loss: 0.1092 - accuracy: 0.9624 - val_loss: 9.2529 - val_accuracy: 0.5892\n",
            "Epoch 87/100\n",
            "763/763 [==============================] - 117s 153ms/step - loss: 0.1107 - accuracy: 0.9630 - val_loss: 9.3516 - val_accuracy: 0.5941\n",
            "Epoch 88/100\n",
            "763/763 [==============================] - 117s 153ms/step - loss: 0.1030 - accuracy: 0.9640 - val_loss: 9.3254 - val_accuracy: 0.5910\n",
            "Epoch 89/100\n",
            "763/763 [==============================] - 117s 153ms/step - loss: 0.1041 - accuracy: 0.9639 - val_loss: 9.2786 - val_accuracy: 0.5911\n",
            "Epoch 90/100\n",
            "763/763 [==============================] - 117s 153ms/step - loss: 0.1014 - accuracy: 0.9643 - val_loss: 9.2749 - val_accuracy: 0.5917\n",
            "Epoch 91/100\n",
            "763/763 [==============================] - 117s 154ms/step - loss: 0.0979 - accuracy: 0.9657 - val_loss: 9.4592 - val_accuracy: 0.5915\n",
            "Epoch 92/100\n",
            "763/763 [==============================] - 117s 153ms/step - loss: 0.1000 - accuracy: 0.9655 - val_loss: 9.3593 - val_accuracy: 0.5925\n",
            "Epoch 93/100\n",
            "763/763 [==============================] - 117s 153ms/step - loss: 0.1070 - accuracy: 0.9633 - val_loss: 9.1081 - val_accuracy: 0.5899\n",
            "Epoch 94/100\n",
            "763/763 [==============================] - 117s 153ms/step - loss: 0.1064 - accuracy: 0.9639 - val_loss: 9.5087 - val_accuracy: 0.5913\n",
            "Epoch 95/100\n",
            "763/763 [==============================] - 117s 153ms/step - loss: 0.0988 - accuracy: 0.9648 - val_loss: 9.3076 - val_accuracy: 0.5870\n",
            "Epoch 96/100\n",
            "763/763 [==============================] - 117s 154ms/step - loss: 0.1037 - accuracy: 0.9638 - val_loss: 9.2526 - val_accuracy: 0.5933\n",
            "Epoch 97/100\n",
            "763/763 [==============================] - 117s 154ms/step - loss: 0.0940 - accuracy: 0.9664 - val_loss: 9.5807 - val_accuracy: 0.5919\n",
            "Epoch 98/100\n",
            "763/763 [==============================] - 118s 154ms/step - loss: 0.0965 - accuracy: 0.9657 - val_loss: 9.6594 - val_accuracy: 0.5936\n",
            "Epoch 99/100\n",
            "763/763 [==============================] - 117s 154ms/step - loss: 0.0996 - accuracy: 0.9646 - val_loss: 9.5005 - val_accuracy: 0.5908\n",
            "Epoch 100/100\n",
            "763/763 [==============================] - 117s 154ms/step - loss: 0.1011 - accuracy: 0.9651 - val_loss: 9.2980 - val_accuracy: 0.5893\n"
          ],
          "name": "stdout"
        }
      ]
    },
    {
      "cell_type": "markdown",
      "metadata": {
        "id": "E9E5M4lQrilV"
      },
      "source": [
        "### Save Model"
      ]
    },
    {
      "cell_type": "code",
      "metadata": {
        "id": "9dyyqgjPJBfk"
      },
      "source": [
        "model.save_weights('/content/drive/My Drive/Colab Notebooks/bolly_lyrics_model.h5')"
      ],
      "execution_count": null,
      "outputs": []
    },
    {
      "cell_type": "markdown",
      "metadata": {
        "id": "NG-sdWMJrmnF"
      },
      "source": [
        "## Plot Accuracy and Loss curve"
      ]
    },
    {
      "cell_type": "code",
      "metadata": {
        "id": "8x1YYkUsGD5T",
        "outputId": "d8e4e11e-e750-47cd-f675-d203791bb8e4",
        "colab": {
          "base_uri": "https://localhost:8080/",
          "height": 562
        }
      },
      "source": [
        "A%matplotlib inline\n",
        "import matplotlib.pyplot as plt\n",
        "acc = history.history['accuracy']\n",
        "loss = history.history['loss']\n",
        "val_acc = history.history['val_accuracy']\n",
        "val_loss = history.history['val_loss']\n",
        "epochs = range(len(acc))\n",
        "\n",
        "plt.plot(epochs, acc, 'b', label='Training accuracy')\n",
        "plt.plot(epochs, val_acc, 'r', label = 'Testing accuracy')\n",
        "plt.title('Accuracy')\n",
        "plt.legend()\n",
        "plt.figure()\n",
        "\n",
        "plt.plot(epochs, loss, 'b', label='Training Loss')\n",
        "plt.plot(epochs, val_loss, 'r', label = 'Testing Loss')\n",
        "plt.title('Loss')\n",
        "plt.legend()\n",
        "plt.figure()\n",
        "\n",
        "plt.show()"
      ],
      "execution_count": null,
      "outputs": [
        {
          "output_type": "display_data",
          "data": {
            "image/png": "[encoded data removed]",
            "text/plain": [
              "<Figure size 432x288 with 1 Axes>"
            ]
          },
          "metadata": {
            "tags": [],
            "needs_background": "light"
          }
        },
        {
          "output_type": "display_data",
          "data": {
            "image/png": "[encoded data removed]",
            "text/plain": [
              "<Figure size 432x288 with 1 Axes>"
            ]
          },
          "metadata": {
            "tags": [],
            "needs_background": "light"
          }
        },
        {
          "output_type": "display_data",
          "data": {
            "text/plain": [
              "<Figure size 432x288 with 0 Axes>"
            ]
          },
          "metadata": {
            "tags": []
          }
        }
      ]
    },
    {
      "cell_type": "markdown",
      "metadata": {
        "id": "JhLB0qUEscYx"
      },
      "source": [
        "## Generate Lyrics"
      ]
    },
    {
      "cell_type": "code",
      "metadata": {
        "id": "25ICSU-KfV2h",
        "outputId": "b8a1defb-0ac1-42a6-e2a0-3acc55806d44",
        "colab": {
          "base_uri": "https://localhost:8080/"
        }
      },
      "source": [
        "seed_text = \"tere zindagi ka\"\n",
        "next_words = 30\n",
        "  \n",
        "for _ in range(next_words):\n",
        "\ttoken_list = tokenizer.texts_to_sequences([seed_text])[0]\n",
        "\ttoken_list = pad_sequences([token_list], maxlen=max_sequence_len-1, padding='pre')\n",
        "\tpredicted = model.predict_classes(token_list, verbose=0)\n",
        "\toutput_word = \"\"\n",
        "\tfor word, index in tokenizer.word_index.items():\n",
        "\t\tif index == predicted:\n",
        "\t\t\toutput_word = word\n",
        "\t\t\tbreak\n",
        "\tseed_text += \" \" + output_word\n",
        "print(seed_text)"
      ],
      "execution_count": null,
      "outputs": [
        {
          "output_type": "stream",
          "text": [
            "tere zindagi ka ghuraana dekha poori duniya ka gol gol agan hain prem kahani mein ek ladka hota hai ek ladki hoti hai kabhi dono hanste hain kabhi dono rote hain prem kahani\n"
          ],
          "name": "stdout"
        }
      ]
    }
  ]
}